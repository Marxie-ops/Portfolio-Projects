{
 "cells": [
  {
   "cell_type": "code",
   "execution_count": 24,
   "id": "adc9e9f3-077b-4495-9c27-58ba324f51ab",
   "metadata": {},
   "outputs": [],
   "source": [
    "import numpy as np\n",
    "import pandas as pd"
   ]
  },
  {
   "cell_type": "code",
   "execution_count": 25,
   "id": "02e8a5ce-a90a-43ca-9dad-87f06f3fe5ad",
   "metadata": {},
   "outputs": [],
   "source": [
    "input_list=([0,2,4,6,8,10,12,14,16])\n",
    "\n",
    "def calculate(input_list):\n",
    "    if len(input_list) != 9:\n",
    "        raise ValueError(\"List must contain nine numbers.\")\n",
    "\n",
    "    # Convert the input list into a 3x3 Numpy array\n",
    "    matrix = np.array(input_list).reshape(3, 3)\n",
    "\n",
    "    calculations = {\n",
    "        'mean': [matrix.mean(axis=0).tolist(), matrix.mean(axis=1).tolist(), matrix.mean().tolist()],\n",
    "        'variance': [matrix.var(axis=0).tolist(), matrix.var(axis=1).tolist(), matrix.var().tolist()],\n",
    "        'standard deviation': [matrix.std(axis=0).tolist(), matrix.std(axis=1).tolist(), matrix.std().tolist()],\n",
    "        'max': [matrix.max(axis=0).tolist(), matrix.max(axis=1).tolist(), matrix.max().tolist()],\n",
    "        'min': [matrix.min(axis=0).tolist(), matrix.min(axis=1).tolist(), matrix.min().tolist()],\n",
    "        'sum': [matrix.sum(axis=0).tolist(), matrix.sum(axis=1).tolist(), matrix.sum().tolist()]\n",
    "    }\n",
    "\n",
    "    return calculations"
   ]
  },
  {
   "cell_type": "code",
   "execution_count": 26,
   "id": "b892fc1f-8969-4aab-b2ba-18ae7956df6a",
   "metadata": {},
   "outputs": [
    {
     "name": "stdout",
     "output_type": "stream",
     "text": [
      "{'mean': [[6.0, 8.0, 10.0], [2.0, 8.0, 14.0], 8.0], 'variance': [[24.0, 24.0, 24.0], [2.6666666666666665, 2.6666666666666665, 2.6666666666666665], 26.666666666666668], 'standard deviation': [[4.898979485566356, 4.898979485566356, 4.898979485566356], [1.632993161855452, 1.632993161855452, 1.632993161855452], 5.163977794943222], 'max': [[12, 14, 16], [4, 10, 16], 16], 'min': [[0, 2, 4], [0, 6, 12], 0], 'sum': [[18, 24, 30], [6, 24, 42], 72]}\n"
     ]
    }
   ],
   "source": [
    "result = calculate([0,2,4,6,8,10,12,14,16])\n",
    "print(result)"
   ]
  },
  {
   "cell_type": "code",
   "execution_count": 27,
   "id": "f891adb6-043a-4ae8-92da-34004569c93e",
   "metadata": {},
   "outputs": [
    {
     "data": {
      "text/html": [
       "<div>\n",
       "<style scoped>\n",
       "    .dataframe tbody tr th:only-of-type {\n",
       "        vertical-align: middle;\n",
       "    }\n",
       "\n",
       "    .dataframe tbody tr th {\n",
       "        vertical-align: top;\n",
       "    }\n",
       "\n",
       "    .dataframe thead th {\n",
       "        text-align: right;\n",
       "    }\n",
       "</style>\n",
       "<table border=\"1\" class=\"dataframe\">\n",
       "  <thead>\n",
       "    <tr style=\"text-align: right;\">\n",
       "      <th></th>\n",
       "      <th>mean</th>\n",
       "      <th>variance</th>\n",
       "      <th>standard deviation</th>\n",
       "      <th>max</th>\n",
       "      <th>min</th>\n",
       "      <th>sum</th>\n",
       "    </tr>\n",
       "  </thead>\n",
       "  <tbody>\n",
       "    <tr>\n",
       "      <th>0</th>\n",
       "      <td>[6.0, 8.0, 10.0]</td>\n",
       "      <td>[24.0, 24.0, 24.0]</td>\n",
       "      <td>[4.898979485566356, 4.898979485566356, 4.89897...</td>\n",
       "      <td>[12, 14, 16]</td>\n",
       "      <td>[0, 2, 4]</td>\n",
       "      <td>[18, 24, 30]</td>\n",
       "    </tr>\n",
       "    <tr>\n",
       "      <th>1</th>\n",
       "      <td>[2.0, 8.0, 14.0]</td>\n",
       "      <td>[2.6666666666666665, 2.6666666666666665, 2.666...</td>\n",
       "      <td>[1.632993161855452, 1.632993161855452, 1.63299...</td>\n",
       "      <td>[4, 10, 16]</td>\n",
       "      <td>[0, 6, 12]</td>\n",
       "      <td>[6, 24, 42]</td>\n",
       "    </tr>\n",
       "    <tr>\n",
       "      <th>2</th>\n",
       "      <td>8.00</td>\n",
       "      <td>26.67</td>\n",
       "      <td>5.16</td>\n",
       "      <td>16</td>\n",
       "      <td>0</td>\n",
       "      <td>72</td>\n",
       "    </tr>\n",
       "  </tbody>\n",
       "</table>\n",
       "</div>"
      ],
      "text/plain": [
       "               mean                                           variance  \\\n",
       "0  [6.0, 8.0, 10.0]                                 [24.0, 24.0, 24.0]   \n",
       "1  [2.0, 8.0, 14.0]  [2.6666666666666665, 2.6666666666666665, 2.666...   \n",
       "2              8.00                                              26.67   \n",
       "\n",
       "                                  standard deviation           max  \\\n",
       "0  [4.898979485566356, 4.898979485566356, 4.89897...  [12, 14, 16]   \n",
       "1  [1.632993161855452, 1.632993161855452, 1.63299...   [4, 10, 16]   \n",
       "2                                               5.16            16   \n",
       "\n",
       "          min           sum  \n",
       "0   [0, 2, 4]  [18, 24, 30]  \n",
       "1  [0, 6, 12]   [6, 24, 42]  \n",
       "2           0            72  "
      ]
     },
     "execution_count": 27,
     "metadata": {},
     "output_type": "execute_result"
    }
   ],
   "source": [
    "df= pd.DataFrame(result)\n",
    "df"
   ]
  },
  {
   "cell_type": "code",
   "execution_count": 28,
   "id": "8cd93561-1bdc-4e72-a8a8-ecbfa310e4d7",
   "metadata": {},
   "outputs": [
    {
     "data": {
      "text/html": [
       "<div>\n",
       "<style scoped>\n",
       "    .dataframe tbody tr th:only-of-type {\n",
       "        vertical-align: middle;\n",
       "    }\n",
       "\n",
       "    .dataframe tbody tr th {\n",
       "        vertical-align: top;\n",
       "    }\n",
       "\n",
       "    .dataframe thead th {\n",
       "        text-align: right;\n",
       "    }\n",
       "</style>\n",
       "<table border=\"1\" class=\"dataframe\">\n",
       "  <thead>\n",
       "    <tr style=\"text-align: right;\">\n",
       "      <th></th>\n",
       "      <th>0</th>\n",
       "      <th>1</th>\n",
       "      <th>2</th>\n",
       "    </tr>\n",
       "  </thead>\n",
       "  <tbody>\n",
       "    <tr>\n",
       "      <th>mean</th>\n",
       "      <td>[6.0, 8.0, 10.0]</td>\n",
       "      <td>[2.0, 8.0, 14.0]</td>\n",
       "      <td>8.00</td>\n",
       "    </tr>\n",
       "    <tr>\n",
       "      <th>variance</th>\n",
       "      <td>[24.0, 24.0, 24.0]</td>\n",
       "      <td>[2.6666666666666665, 2.6666666666666665, 2.666...</td>\n",
       "      <td>26.67</td>\n",
       "    </tr>\n",
       "    <tr>\n",
       "      <th>standard deviation</th>\n",
       "      <td>[4.898979485566356, 4.898979485566356, 4.89897...</td>\n",
       "      <td>[1.632993161855452, 1.632993161855452, 1.63299...</td>\n",
       "      <td>5.16</td>\n",
       "    </tr>\n",
       "    <tr>\n",
       "      <th>max</th>\n",
       "      <td>[12, 14, 16]</td>\n",
       "      <td>[4, 10, 16]</td>\n",
       "      <td>16</td>\n",
       "    </tr>\n",
       "    <tr>\n",
       "      <th>min</th>\n",
       "      <td>[0, 2, 4]</td>\n",
       "      <td>[0, 6, 12]</td>\n",
       "      <td>0</td>\n",
       "    </tr>\n",
       "    <tr>\n",
       "      <th>sum</th>\n",
       "      <td>[18, 24, 30]</td>\n",
       "      <td>[6, 24, 42]</td>\n",
       "      <td>72</td>\n",
       "    </tr>\n",
       "  </tbody>\n",
       "</table>\n",
       "</div>"
      ],
      "text/plain": [
       "                                                                    0  \\\n",
       "mean                                                 [6.0, 8.0, 10.0]   \n",
       "variance                                           [24.0, 24.0, 24.0]   \n",
       "standard deviation  [4.898979485566356, 4.898979485566356, 4.89897...   \n",
       "max                                                      [12, 14, 16]   \n",
       "min                                                         [0, 2, 4]   \n",
       "sum                                                      [18, 24, 30]   \n",
       "\n",
       "                                                                    1     2  \n",
       "mean                                                 [2.0, 8.0, 14.0]  8.00  \n",
       "variance            [2.6666666666666665, 2.6666666666666665, 2.666... 26.67  \n",
       "standard deviation  [1.632993161855452, 1.632993161855452, 1.63299...  5.16  \n",
       "max                                                       [4, 10, 16]    16  \n",
       "min                                                        [0, 6, 12]     0  \n",
       "sum                                                       [6, 24, 42]    72  "
      ]
     },
     "execution_count": 28,
     "metadata": {},
     "output_type": "execute_result"
    }
   ],
   "source": [
    "df.transpose()"
   ]
  },
  {
   "cell_type": "code",
   "execution_count": null,
   "id": "e7a90d8f-1b05-409c-8fc2-6a26a5aba1d6",
   "metadata": {},
   "outputs": [],
   "source": []
  },
  {
   "cell_type": "code",
   "execution_count": null,
   "id": "34b6189a-82dd-4d0e-b36d-5f39d75e3725",
   "metadata": {},
   "outputs": [],
   "source": []
  },
  {
   "cell_type": "code",
   "execution_count": null,
   "id": "27ac8b29-8c7c-4e08-812e-6806311195a2",
   "metadata": {},
   "outputs": [],
   "source": []
  },
  {
   "cell_type": "code",
   "execution_count": null,
   "id": "d627ba2c-42ec-4e61-ab9c-9b981c75062b",
   "metadata": {},
   "outputs": [],
   "source": []
  },
  {
   "cell_type": "code",
   "execution_count": null,
   "id": "743e1bea-462c-4acf-9b8f-b8b3b7f06fdc",
   "metadata": {},
   "outputs": [],
   "source": []
  },
  {
   "cell_type": "code",
   "execution_count": null,
   "id": "31750b4e-3b89-44d5-8b05-720a8518ace5",
   "metadata": {},
   "outputs": [],
   "source": []
  },
  {
   "cell_type": "code",
   "execution_count": null,
   "id": "7dc380ab-102c-4a0d-930d-10fefa718917",
   "metadata": {},
   "outputs": [],
   "source": []
  },
  {
   "cell_type": "code",
   "execution_count": null,
   "id": "6f32e1f0-9ea7-47ce-8593-96b0ec7db48a",
   "metadata": {},
   "outputs": [],
   "source": []
  },
  {
   "cell_type": "code",
   "execution_count": null,
   "id": "a7c22a15-fbc9-4bf9-a754-f920c880330f",
   "metadata": {},
   "outputs": [],
   "source": []
  }
 ],
 "metadata": {
  "kernelspec": {
   "display_name": "Python 3 (ipykernel)",
   "language": "python",
   "name": "python3"
  },
  "language_info": {
   "codemirror_mode": {
    "name": "ipython",
    "version": 3
   },
   "file_extension": ".py",
   "mimetype": "text/x-python",
   "name": "python",
   "nbconvert_exporter": "python",
   "pygments_lexer": "ipython3",
   "version": "3.11.7"
  }
 },
 "nbformat": 4,
 "nbformat_minor": 5
}
