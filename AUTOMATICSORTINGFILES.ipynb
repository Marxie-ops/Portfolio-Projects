{
 "cells": [
  {
   "cell_type": "markdown",
   "id": "a708c7e2-98ec-46f5-937f-5c8ed35c68e3",
   "metadata": {},
   "source": [
    "AUTOMATIC SORTING FILES"
   ]
  },
  {
   "cell_type": "code",
   "execution_count": 1,
   "id": "b3e4bf6c-e5dc-4332-9528-4bdd1fec40a1",
   "metadata": {},
   "outputs": [],
   "source": [
    "import os, shutil"
   ]
  },
  {
   "cell_type": "code",
   "execution_count": 6,
   "id": "0211b7e8-ae61-4744-926a-e1c7bce376c7",
   "metadata": {},
   "outputs": [],
   "source": [
    "path = r\"C:/Users/PC/Documents/tutorial pythonfiles/\""
   ]
  },
  {
   "cell_type": "code",
   "execution_count": 31,
   "id": "ff88a94a-560b-4aaf-b9f2-a5622354dc0f",
   "metadata": {},
   "outputs": [
    {
     "data": {
      "text/plain": [
       "['countries of the world.csv',\n",
       " 'countries of the world.txt',\n",
       " 'json_sample.json',\n",
       " 'world_population_excel_workbook.xlsx']"
      ]
     },
     "execution_count": 31,
     "metadata": {},
     "output_type": "execute_result"
    }
   ],
   "source": [
    "file_name = os.listdir(path)"
   ]
  },
  {
   "cell_type": "code",
   "execution_count": 32,
   "id": "40627c17-5104-4708-a7cd-d3ed52bedcd8",
   "metadata": {},
   "outputs": [
    {
     "data": {
      "text/plain": [
       "False"
      ]
     },
     "execution_count": 32,
     "metadata": {},
     "output_type": "execute_result"
    }
   ],
   "source": [
    "os.path.exists(path+'csv files')\n",
    "\n"
   ]
  },
  {
   "cell_type": "code",
   "execution_count": 45,
   "id": "37cbe7e0-b4c6-40c7-ad62-9953e0351faa",
   "metadata": {},
   "outputs": [],
   "source": [
    "folder_names = (\"csv files\", \"text files\", \"json files\", \"xlsx files\")\n",
    "for loop in range(0,4):\n",
    "    if not os.path.exists(path + folder_names[loop]):\n",
    "        os.makedirs(path + folder_names[loop])"
   ]
  },
  {
   "cell_type": "code",
   "execution_count": 47,
   "id": "634aa346-eecb-4df1-b12e-ec4239bc3e4e",
   "metadata": {},
   "outputs": [],
   "source": [
    "for file in file_name:\n",
    "    if \".csv\" in file and not os.path.exists(path + \"csv files/\" +file):\n",
    "        shutil.move(path + file, path + \"csv files/\" +file)\n",
    "    elif \".txt\" in file and not os.path.exists(path + \"text files/\" +file):\n",
    "        shutil.move(path + file, path + \"text files/\" +file)\n",
    "    elif \".json\" in file and not os.path.exists(path + \"json files/\" +file):\n",
    "        shutil.move(path + file, path + \"json files/\" +file)\n",
    "    elif \".xlsx\" in file and not os.path.exists(path + \"xlsx files/\" +file):\n",
    "        shutil.move(path + file, path + \"xlsx files/\" +file)\n",
    "    "
   ]
  },
  {
   "cell_type": "code",
   "execution_count": null,
   "id": "336938b9-bacb-4c16-ab3b-a6a603fa7deb",
   "metadata": {},
   "outputs": [],
   "source": []
  },
  {
   "cell_type": "code",
   "execution_count": null,
   "id": "c58d7780-46f2-496a-bc60-397c109e235f",
   "metadata": {},
   "outputs": [],
   "source": []
  },
  {
   "cell_type": "code",
   "execution_count": null,
   "id": "06214a02-8b87-4c50-9a18-4cdab44a1cf8",
   "metadata": {},
   "outputs": [],
   "source": []
  },
  {
   "cell_type": "code",
   "execution_count": null,
   "id": "e69e7e38-e84c-4971-bf19-23f32d6e8f33",
   "metadata": {},
   "outputs": [],
   "source": []
  },
  {
   "cell_type": "code",
   "execution_count": null,
   "id": "331cfe80-349e-45af-a0ae-d279c0837f94",
   "metadata": {},
   "outputs": [],
   "source": []
  },
  {
   "cell_type": "code",
   "execution_count": null,
   "id": "83ee32ab-0393-4074-aad4-b9b71221b2f9",
   "metadata": {},
   "outputs": [],
   "source": []
  },
  {
   "cell_type": "code",
   "execution_count": null,
   "id": "8bec572c-9f29-4d86-b7f4-fa929326fa36",
   "metadata": {},
   "outputs": [],
   "source": []
  },
  {
   "cell_type": "code",
   "execution_count": null,
   "id": "cfd03806-add9-4900-95de-f95e29074614",
   "metadata": {},
   "outputs": [],
   "source": []
  },
  {
   "cell_type": "code",
   "execution_count": null,
   "id": "d7ecff2c-dd52-4fca-a847-47d1b4835232",
   "metadata": {},
   "outputs": [],
   "source": []
  },
  {
   "cell_type": "code",
   "execution_count": null,
   "id": "221d4fec-7d5d-40f9-975b-2b41ac65af2d",
   "metadata": {},
   "outputs": [],
   "source": []
  },
  {
   "cell_type": "code",
   "execution_count": null,
   "id": "96dccd1d-9ecb-44f7-b346-795edbe4ec97",
   "metadata": {},
   "outputs": [],
   "source": []
  },
  {
   "cell_type": "code",
   "execution_count": null,
   "id": "958112fd-71d5-4db5-a8cc-29dec51fecfc",
   "metadata": {},
   "outputs": [],
   "source": []
  },
  {
   "cell_type": "code",
   "execution_count": null,
   "id": "979785e4-a12a-44af-8a6c-d769083ae61c",
   "metadata": {},
   "outputs": [],
   "source": []
  },
  {
   "cell_type": "code",
   "execution_count": null,
   "id": "8cc10856-1cfc-471c-b39b-d1811906a7cc",
   "metadata": {},
   "outputs": [],
   "source": []
  },
  {
   "cell_type": "code",
   "execution_count": null,
   "id": "7e321777-401e-46af-986b-68cd5e64265f",
   "metadata": {},
   "outputs": [],
   "source": []
  },
  {
   "cell_type": "code",
   "execution_count": null,
   "id": "0d2983f2-e780-469c-bbb3-65ce01c4f161",
   "metadata": {},
   "outputs": [],
   "source": []
  },
  {
   "cell_type": "code",
   "execution_count": null,
   "id": "5a0db1d2-69c9-49df-a2d1-911e0525f868",
   "metadata": {},
   "outputs": [],
   "source": []
  }
 ],
 "metadata": {
  "kernelspec": {
   "display_name": "FIRSTPROJECT",
   "language": "python",
   "name": "firstproject"
  },
  "language_info": {
   "codemirror_mode": {
    "name": "ipython",
    "version": 3
   },
   "file_extension": ".py",
   "mimetype": "text/x-python",
   "name": "python",
   "nbconvert_exporter": "python",
   "pygments_lexer": "ipython3",
   "version": "3.12.4"
  }
 },
 "nbformat": 4,
 "nbformat_minor": 5
}
